{
 "cells": [
  {
   "cell_type": "markdown",
   "metadata": {},
   "source": [
    "### TASKS 4&5"
   ]
  },
  {
   "cell_type": "code",
   "execution_count": 1,
   "metadata": {},
   "outputs": [],
   "source": [
    "import pandas as pd\n",
    "\n",
    "df = pd.read_csv(\"country_vaccination_stats.csv\")"
   ]
  },
  {
   "cell_type": "code",
   "execution_count": 3,
   "metadata": {},
   "outputs": [
    {
     "data": {
      "text/html": [
       "<div>\n",
       "<style scoped>\n",
       "    .dataframe tbody tr th:only-of-type {\n",
       "        vertical-align: middle;\n",
       "    }\n",
       "\n",
       "    .dataframe tbody tr th {\n",
       "        vertical-align: top;\n",
       "    }\n",
       "\n",
       "    .dataframe thead th {\n",
       "        text-align: right;\n",
       "    }\n",
       "</style>\n",
       "<table border=\"1\" class=\"dataframe\">\n",
       "  <thead>\n",
       "    <tr style=\"text-align: right;\">\n",
       "      <th></th>\n",
       "      <th>country</th>\n",
       "      <th>date</th>\n",
       "      <th>daily_vaccinations</th>\n",
       "      <th>vaccines</th>\n",
       "    </tr>\n",
       "  </thead>\n",
       "  <tbody>\n",
       "    <tr>\n",
       "      <th>0</th>\n",
       "      <td>Argentina</td>\n",
       "      <td>2020-12-29</td>\n",
       "      <td>6483</td>\n",
       "      <td>Sputnik V</td>\n",
       "    </tr>\n",
       "    <tr>\n",
       "      <th>1</th>\n",
       "      <td>Argentina</td>\n",
       "      <td>2020-12-30</td>\n",
       "      <td>15656</td>\n",
       "      <td>Sputnik V</td>\n",
       "    </tr>\n",
       "    <tr>\n",
       "      <th>2</th>\n",
       "      <td>Argentina</td>\n",
       "      <td>2020-12-31</td>\n",
       "      <td>15656</td>\n",
       "      <td>Sputnik V</td>\n",
       "    </tr>\n",
       "    <tr>\n",
       "      <th>3</th>\n",
       "      <td>Argentina</td>\n",
       "      <td>2021-01-01</td>\n",
       "      <td>11070</td>\n",
       "      <td>Sputnik V</td>\n",
       "    </tr>\n",
       "    <tr>\n",
       "      <th>4</th>\n",
       "      <td>Argentina</td>\n",
       "      <td>2021-01-02</td>\n",
       "      <td>8776</td>\n",
       "      <td>Sputnik V</td>\n",
       "    </tr>\n",
       "    <tr>\n",
       "      <th>...</th>\n",
       "      <td>...</td>\n",
       "      <td>...</td>\n",
       "      <td>...</td>\n",
       "      <td>...</td>\n",
       "    </tr>\n",
       "    <tr>\n",
       "      <th>1497</th>\n",
       "      <td>Wales</td>\n",
       "      <td>2021-01-20</td>\n",
       "      <td>11105</td>\n",
       "      <td>Oxford/AstraZeneca, Pfizer/BioNTech</td>\n",
       "    </tr>\n",
       "    <tr>\n",
       "      <th>1498</th>\n",
       "      <td>Wales</td>\n",
       "      <td>2021-01-21</td>\n",
       "      <td>12318</td>\n",
       "      <td>Oxford/AstraZeneca, Pfizer/BioNTech</td>\n",
       "    </tr>\n",
       "    <tr>\n",
       "      <th>1499</th>\n",
       "      <td>Wales</td>\n",
       "      <td>2021-01-22</td>\n",
       "      <td>15148</td>\n",
       "      <td>Oxford/AstraZeneca, Pfizer/BioNTech</td>\n",
       "    </tr>\n",
       "    <tr>\n",
       "      <th>1500</th>\n",
       "      <td>Wales</td>\n",
       "      <td>2021-01-23</td>\n",
       "      <td>17371</td>\n",
       "      <td>Oxford/AstraZeneca, Pfizer/BioNTech</td>\n",
       "    </tr>\n",
       "    <tr>\n",
       "      <th>1501</th>\n",
       "      <td>Wales</td>\n",
       "      <td>2021-01-24</td>\n",
       "      <td>17063</td>\n",
       "      <td>Oxford/AstraZeneca, Pfizer/BioNTech</td>\n",
       "    </tr>\n",
       "  </tbody>\n",
       "</table>\n",
       "<p>1502 rows × 4 columns</p>\n",
       "</div>"
      ],
      "text/plain": [
       "        country       date  daily_vaccinations  \\\n",
       "0     Argentina 2020-12-29                6483   \n",
       "1     Argentina 2020-12-30               15656   \n",
       "2     Argentina 2020-12-31               15656   \n",
       "3     Argentina 2021-01-01               11070   \n",
       "4     Argentina 2021-01-02                8776   \n",
       "...         ...        ...                 ...   \n",
       "1497      Wales 2021-01-20               11105   \n",
       "1498      Wales 2021-01-21               12318   \n",
       "1499      Wales 2021-01-22               15148   \n",
       "1500      Wales 2021-01-23               17371   \n",
       "1501      Wales 2021-01-24               17063   \n",
       "\n",
       "                                 vaccines  \n",
       "0                               Sputnik V  \n",
       "1                               Sputnik V  \n",
       "2                               Sputnik V  \n",
       "3                               Sputnik V  \n",
       "4                               Sputnik V  \n",
       "...                                   ...  \n",
       "1497  Oxford/AstraZeneca, Pfizer/BioNTech  \n",
       "1498  Oxford/AstraZeneca, Pfizer/BioNTech  \n",
       "1499  Oxford/AstraZeneca, Pfizer/BioNTech  \n",
       "1500  Oxford/AstraZeneca, Pfizer/BioNTech  \n",
       "1501  Oxford/AstraZeneca, Pfizer/BioNTech  \n",
       "\n",
       "[1502 rows x 4 columns]"
      ]
     },
     "execution_count": 3,
     "metadata": {},
     "output_type": "execute_result"
    }
   ],
   "source": [
    "# Convert date column to datetime format\n",
    "df['date'] = pd.to_datetime(df['date'])\n",
    "\n",
    "# Sort the dataframe by country and date\n",
    "df = df.sort_values(by=['country', 'date'])\n",
    "\n",
    "# Group by country and calculate the minimum daily vaccinations\n",
    "min_vaccinations = df.groupby('country')['daily_vaccinations'].min().reset_index()\n",
    "\n",
    "# Merge the minimum vaccinations back to the original dataframe\n",
    "df = pd.merge(df, min_vaccinations, on='country', suffixes=('', '_min'))\n",
    "\n",
    "# Fill missing values in daily_vaccinations column with the minimum daily vaccination number\n",
    "df['daily_vaccinations'] = df['daily_vaccinations'].fillna(df['daily_vaccinations_min'])\n",
    "\n",
    "# Fill missing values in daily_vaccinations column for countries without any valid vaccination number yet with 0\n",
    "df['daily_vaccinations'] = df['daily_vaccinations'].fillna(0)\n",
    "\n",
    "# Convert daily_vaccinations to integer after handling missing values\n",
    "df['daily_vaccinations'] = df['daily_vaccinations'].astype(int)\n",
    "\n",
    "# Drop the extra column used for merging\n",
    "df.drop(columns=['daily_vaccinations_min'], inplace=True)\n",
    "\n",
    "# Save the modified dataframe\n",
    "df.to_csv(\"task4_filled_dataset.csv\", index=False)\n",
    "\n",
    "df"
   ]
  },
  {
   "cell_type": "markdown",
   "metadata": {},
   "source": [
    "### TASK 6"
   ]
  },
  {
   "cell_type": "code",
   "execution_count": 4,
   "metadata": {},
   "outputs": [
    {
     "name": "stdout",
     "output_type": "stream",
     "text": [
      "Top 3 countries with highest median daily vaccination numbers:\n",
      "         country  daily_vaccinations\n",
      "0  United States            378253.0\n",
      "1          China            276786.0\n",
      "2          India            173922.0\n"
     ]
    }
   ],
   "source": [
    "# Calculate the median daily vaccination numbers for each country\n",
    "median_daily_vaccinations = df.groupby('country')['daily_vaccinations'].median().reset_index()\n",
    "\n",
    "# Sort the median daily vaccinations in descending order and select top 3 countries\n",
    "top_3_countries = median_daily_vaccinations.sort_values(by='daily_vaccinations', ascending=False).head(3)\n",
    "\n",
    "# Reset index starting from 0\n",
    "top_3_countries.reset_index(drop=True, inplace=True)\n",
    "\n",
    "# Display the top 3 countries with highest median daily vaccination numbers\n",
    "print(\"Top 3 countries with highest median daily vaccination numbers:\")\n",
    "print(top_3_countries)"
   ]
  },
  {
   "cell_type": "markdown",
   "metadata": {},
   "source": [
    "### TASK7"
   ]
  },
  {
   "cell_type": "code",
   "execution_count": 6,
   "metadata": {},
   "outputs": [
    {
     "name": "stdout",
     "output_type": "stream",
     "text": [
      "Total number of vaccinations done on 2021-01-06: 1485255\n"
     ]
    }
   ],
   "source": [
    "# Load the filled dataset with missing values imputed\n",
    "df = pd.read_csv(\"task4_filled_dataset.csv\")\n",
    "\n",
    "# Convert date column to datetime format\n",
    "df['date'] = pd.to_datetime(df['date'])\n",
    "\n",
    "# Filter the DataFrame for January 6, 2021\n",
    "vaccinations_on_date = df[df['date'] == '2021-01-06']\n",
    "\n",
    "# Calculate the total number of vaccinations done on January 6, 2021\n",
    "total_vaccinations_on_date = vaccinations_on_date['daily_vaccinations'].sum()\n",
    "\n",
    "# Display the total number of vaccinations done on January 6, 2021\n",
    "print(\"Total number of vaccinations done on 2021-01-06:\", total_vaccinations_on_date)"
   ]
  }
 ],
 "metadata": {
  "kernelspec": {
   "display_name": "myenv",
   "language": "python",
   "name": "python3"
  },
  "language_info": {
   "codemirror_mode": {
    "name": "ipython",
    "version": 3
   },
   "file_extension": ".py",
   "mimetype": "text/x-python",
   "name": "python",
   "nbconvert_exporter": "python",
   "pygments_lexer": "ipython3",
   "version": "3.12.3"
  }
 },
 "nbformat": 4,
 "nbformat_minor": 2
}
