{
 "cells": [
  {
   "cell_type": "markdown",
   "metadata": {},
   "source": [
    "### TASK9"
   ]
  },
  {
   "cell_type": "code",
   "execution_count": 4,
   "metadata": {},
   "outputs": [
    {
     "name": "stdout",
     "output_type": "stream",
     "text": [
      "Extracted URLs per Device Type:\n",
      "Device Type: AXO145, URLs: ['https://xcd32112.smart_meter.com']\n",
      "Device Type: TRU151, URLs: []\n",
      "Device Type: ZOD231, URLs: ['http://yT5495.smart_meter.com']\n",
      "Device Type: YRT231, URLs: []\n",
      "Device Type: LWR245, URLs: []\n"
     ]
    }
   ],
   "source": [
    "import pandas as pd\n",
    "import re\n",
    "\n",
    "# Sample data\n",
    "data = {\n",
    "    'Device_Type': ['AXO145', 'TRU151', 'ZOD231', 'YRT231', 'LWR245'],\n",
    "    'Stats_Access_Link': [\n",
    "        '<url>https://xcd32112.smart_meter.com</url>',\n",
    "        '<url>http://tXh67.dia_meter.com</url>',\n",
    "        '<url>http://yT5495.smart_meter.com</url>',\n",
    "        '<url>http://ret323_TRu.crown.com</url>',\n",
    "        '<url>https://luwr3243.celcius.com</url>'\n",
    "    ]\n",
    "}\n",
    "\n",
    "# Create DataFrame\n",
    "df = pd.DataFrame(data)\n",
    "\n",
    "# Dictionary to store extracted URLs per device type\n",
    "extracted_urls = {}\n",
    "\n",
    "# Regular expression pattern for extracting URLs\n",
    "url_pattern = re.compile(r'<url>(https?://([a-zA-Z0-9_.]+)\\.smart_meter\\.com)</url>', re.IGNORECASE)\n",
    "\n",
    "# Iterate over unique device types\n",
    "for device_type in df['Device_Type'].unique():\n",
    "    # Filter data for current device type\n",
    "    device_df = df[df['Device_Type'] == device_type]\n",
    "    \n",
    "    # Extract URLs using regular expression\n",
    "    urls = device_df['Stats_Access_Link'].apply(lambda x: url_pattern.search(x).group(1) if url_pattern.search(x) else None)\n",
    "    \n",
    "    # Remove None values (URLs not found)\n",
    "    urls = urls.dropna()\n",
    "    \n",
    "    # Store extracted URLs in dictionary\n",
    "    extracted_urls[device_type] = list(urls)\n",
    "\n",
    "# Output extracted URLs per device type\n",
    "print(\"Extracted URLs per Device Type:\")\n",
    "for device_type, urls in extracted_urls.items():\n",
    "    print(f\"Device Type: {device_type}, URLs: {urls}\")\n"
   ]
  }
 ],
 "metadata": {
  "kernelspec": {
   "display_name": "myenv",
   "language": "python",
   "name": "python3"
  },
  "language_info": {
   "codemirror_mode": {
    "name": "ipython",
    "version": 3
   },
   "file_extension": ".py",
   "mimetype": "text/x-python",
   "name": "python",
   "nbconvert_exporter": "python",
   "pygments_lexer": "ipython3",
   "version": "3.12.3"
  }
 },
 "nbformat": 4,
 "nbformat_minor": 2
}
